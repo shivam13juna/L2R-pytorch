{
 "cells": [
  {
   "cell_type": "code",
   "execution_count": 14,
   "metadata": {},
   "outputs": [],
   "source": [
    "a = {}\n",
    "a['ano'] = {}\n",
    "a['ano']['bno'] = 1\n",
    "a[2] = {}\n",
    "a[2][1] = 4"
   ]
  },
  {
   "cell_type": "code",
   "execution_count": 15,
   "metadata": {},
   "outputs": [
    {
     "data": {
      "text/plain": [
       "{'ano': {'bno': 1}, 2: {1: 4}}"
      ]
     },
     "execution_count": 15,
     "metadata": {},
     "output_type": "execute_result"
    }
   ],
   "source": [
    "a"
   ]
  },
  {
   "cell_type": "code",
   "execution_count": 12,
   "metadata": {},
   "outputs": [
    {
     "ename": "AttributeError",
     "evalue": "'NoneType' object has no attribute 'get'",
     "output_type": "error",
     "traceback": [
      "\u001b[0;31m---------------------------------------------------------------------------\u001b[0m",
      "\u001b[0;31mAttributeError\u001b[0m                            Traceback (most recent call last)",
      "\u001b[1;32m/home/shivam13juna/Documents/learn/allRank/scripts/data_analysis.ipynb Cell 2\u001b[0m in \u001b[0;36m<cell line: 1>\u001b[0;34m()\u001b[0m\n\u001b[0;32m----> <a href='vscode-notebook-cell:/home/shivam13juna/Documents/learn/allRank/scripts/data_analysis.ipynb#ch0000059?line=0'>1</a>\u001b[0m a\u001b[39m.\u001b[39;49mget(\u001b[39m'\u001b[39;49m\u001b[39mcno\u001b[39;49m\u001b[39m'\u001b[39;49m, \u001b[39mNone\u001b[39;49;00m)\u001b[39m.\u001b[39;49mget(\u001b[39m'\u001b[39m\u001b[39mbno\u001b[39m\u001b[39m'\u001b[39m, \u001b[39mNone\u001b[39;00m)\n",
      "\u001b[0;31mAttributeError\u001b[0m: 'NoneType' object has no attribute 'get'"
     ]
    }
   ],
   "source": [
    "a.get('cno', None).get('bno', None)"
   ]
  },
  {
   "cell_type": "markdown",
   "metadata": {},
   "source": [
    "## Importing Libraries"
   ]
  },
  {
   "cell_type": "code",
   "execution_count": 1,
   "metadata": {},
   "outputs": [],
   "source": [
    "import os\n",
    "os.chdir('/home/shivam13juna/Documents/learn/allRank/')\n",
    "\n",
    "import re\n",
    "import pandas as pd\n",
    "from sklearn.datasets import dump_svmlight_file\n",
    "\n",
    "pd.options.display.max_columns = 500\n",
    "pd.options.display.max_rows = 500\n",
    "\n"
   ]
  },
  {
   "cell_type": "markdown",
   "metadata": {},
   "source": [
    "## Analyzing txt file"
   ]
  },
  {
   "cell_type": "code",
   "execution_count": 45,
   "metadata": {},
   "outputs": [],
   "source": [
    "data_loc = 'allrank/pony_data/train.txt'\n",
    "\n",
    "with open(data_loc, 'r') as handle:\n",
    "    file = handle.readlines()"
   ]
  },
  {
   "cell_type": "code",
   "execution_count": 46,
   "metadata": {},
   "outputs": [
    {
     "data": {
      "text/plain": [
       "'1 qid:1 0:3 1:56 2:462 3:1200 4:3\\n'"
      ]
     },
     "execution_count": 46,
     "metadata": {},
     "output_type": "execute_result"
    }
   ],
   "source": [
    "file[0]"
   ]
  },
  {
   "cell_type": "code",
   "execution_count": 47,
   "metadata": {},
   "outputs": [],
   "source": [
    "cont = {}\n",
    "for i in file:\n",
    "    \n",
    "    value = re.search('qid:(\\d+)\\s+.*', i).group(1)\n",
    "\n",
    "    if value in cont:\n",
    "        cont[value] += 1\n",
    "    else:\n",
    "        cont[value] = 1"
   ]
  },
  {
   "cell_type": "markdown",
   "metadata": {},
   "source": [
    "Sorting by counts"
   ]
  },
  {
   "cell_type": "code",
   "execution_count": 48,
   "metadata": {},
   "outputs": [
    {
     "data": {
      "text/plain": [
       "[('14900', 36), ('14895', 36), ('14907', 36), ('14930', 36), ('14944', 36)]"
      ]
     },
     "execution_count": 48,
     "metadata": {},
     "output_type": "execute_result"
    }
   ],
   "source": [
    "sorted(cont.items(), key=lambda x: x[1], reverse=True)[:5]"
   ]
  },
  {
   "cell_type": "markdown",
   "metadata": {},
   "source": [
    "Sorting by numerical key"
   ]
  },
  {
   "cell_type": "code",
   "execution_count": 39,
   "metadata": {},
   "outputs": [
    {
     "data": {
      "text/plain": [
       "[('18387', 12), ('18386', 15), ('18385', 13), ('18384', 11), ('18383', 12)]"
      ]
     },
     "execution_count": 39,
     "metadata": {},
     "output_type": "execute_result"
    }
   ],
   "source": [
    "sorted(cont.items(), key=lambda x: int(x[0]), reverse=True)[:5]"
   ]
  },
  {
   "cell_type": "code",
   "execution_count": 54,
   "metadata": {},
   "outputs": [
    {
     "data": {
      "text/plain": [
       "match_record_id\n",
       "1        16\n",
       "2        16\n",
       "3        15\n",
       "4        16\n",
       "5        16\n",
       "         ..\n",
       "18383    12\n",
       "18384    11\n",
       "18385    13\n",
       "18386    15\n",
       "18387    12\n",
       "Name: h_no, Length: 15664, dtype: int64"
      ]
     },
     "execution_count": 54,
     "metadata": {},
     "output_type": "execute_result"
    }
   ],
   "source": [
    "fin.sort_values('match_record_id', ascending=False).groupby('match_record_id')['h_no'].nunique()"
   ]
  },
  {
   "cell_type": "code",
   "execution_count": 41,
   "metadata": {},
   "outputs": [
    {
     "name": "stdout",
     "output_type": "stream",
     "text": [
      "13 qid:14900 0:8 1:53 2:480 3:1400 4:2\n",
      "\n",
      "13 qid:14900 0:8 1:53 2:480 3:1400 4:2\n",
      "\n",
      "17 qid:14900 0:7 1:54 2:506 3:1400 4:2\n",
      "\n",
      "17 qid:14900 0:7 1:54 2:506 3:1400 4:2\n",
      "\n",
      "16 qid:14900 0:6 1:52 2:432 3:1400 4:2\n",
      "\n",
      "16 qid:14900 0:6 1:52 2:432 3:1400 4:2\n",
      "\n",
      "15 qid:14900 0:6 1:55 2:508 3:1400 4:2\n",
      "\n",
      "15 qid:14900 0:6 1:55 2:508 3:1400 4:2\n",
      "\n",
      "3 qid:14900 0:5 1:56 2:484 3:1400 4:2\n",
      "\n",
      "3 qid:14900 0:5 1:56 2:484 3:1400 4:2\n",
      "\n",
      "10 qid:14900 0:5 1:54 2:472 3:1400 4:2\n",
      "\n",
      "10 qid:14900 0:5 1:54 2:472 3:1400 4:2\n",
      "\n",
      "12 qid:14900 0:5 1:52 2:454 3:1400 4:2\n",
      "\n",
      "12 qid:14900 0:5 1:52 2:454 3:1400 4:2\n",
      "\n",
      "9 qid:14900 0:5 1:52 2:440 3:1400 4:2\n",
      "\n",
      "9 qid:14900 0:5 1:52 2:440 3:1400 4:2\n",
      "\n",
      "14 qid:14900 0:5 1:52 2:450 3:1400 4:2\n",
      "\n",
      "14 qid:14900 0:5 1:52 2:450 3:1400 4:2\n",
      "\n",
      "8 qid:14900 0:5 1:53 2:482 3:1400 4:2\n",
      "\n",
      "8 qid:14900 0:5 1:53 2:482 3:1400 4:2\n",
      "\n",
      "11 qid:14900 0:5 1:54 2:430 3:1400 4:2\n",
      "\n",
      "11 qid:14900 0:5 1:54 2:430 3:1400 4:2\n",
      "\n",
      "5 qid:14900 0:4 1:53 2:438 3:1400 4:2\n",
      "\n",
      "5 qid:14900 0:4 1:53 2:438 3:1400 4:2\n",
      "\n",
      "4 qid:14900 0:4 1:55 2:488 3:1400 4:2\n",
      "\n",
      "4 qid:14900 0:4 1:55 2:488 3:1400 4:2\n",
      "\n",
      "2 qid:14900 0:4 1:53 2:438 3:1400 4:2\n",
      "\n",
      "2 qid:14900 0:4 1:53 2:438 3:1400 4:2\n",
      "\n",
      "6 qid:14900 0:4 1:55 2:522 3:1400 4:2\n",
      "\n",
      "6 qid:14900 0:4 1:55 2:522 3:1400 4:2\n",
      "\n",
      "7 qid:14900 0:4 1:53 2:488 3:1400 4:2\n",
      "\n",
      "7 qid:14900 0:4 1:53 2:488 3:1400 4:2\n",
      "\n",
      "18 qid:14900 0:4 1:52 2:486 3:1400 4:2\n",
      "\n",
      "18 qid:14900 0:4 1:52 2:486 3:1400 4:2\n",
      "\n",
      "1 qid:14900 0:4 1:52 2:452 3:1400 4:2\n",
      "\n",
      "1 qid:14900 0:4 1:52 2:452 3:1400 4:2\n",
      "\n"
     ]
    }
   ],
   "source": [
    "for i in file:\n",
    "    if '14900' in i:\n",
    "        print(i)\n"
   ]
  },
  {
   "cell_type": "code",
   "execution_count": null,
   "metadata": {},
   "outputs": [],
   "source": []
  },
  {
   "cell_type": "code",
   "execution_count": null,
   "metadata": {},
   "outputs": [],
   "source": []
  },
  {
   "cell_type": "markdown",
   "metadata": {},
   "source": [
    "## Analyzing csv"
   ]
  },
  {
   "cell_type": "code",
   "execution_count": 1,
   "metadata": {},
   "outputs": [],
   "source": [
    "import os\n",
    "os.chdir('/home/shivam13juna/Documents/learn/allRank/')\n",
    "\n",
    "import re\n",
    "import pandas as pd\n",
    "from sklearn.datasets import dump_svmlight_file\n",
    "\n",
    "pd.options.display.max_columns = 500\n",
    "pd.options.display.max_rows = 500\n",
    "\n",
    "\n",
    "\n",
    "# fin = pd.read_csv(os.path.expanduser('~/Documents/upwork/baran_pony/processed_data.csv'))\n",
    "train_data = pd.read_csv('~/Documents/upwork/baran_pony/tmp/train_data.csv')\n",
    "test_data = pd.read_csv('~/Documents/upwork/baran_pony/tmp/test_data.csv')"
   ]
  },
  {
   "cell_type": "code",
   "execution_count": 2,
   "metadata": {},
   "outputs": [],
   "source": [
    "train_data['checkr'] = train_data['match_record_id']\n",
    "test_data['checkr'] = test_data['match_record_id']\n",
    "\n",
    "\n",
    "train_data.drop_duplicates(['match_record_id', 'horse_name', 'h_no'], inplace=True)\n",
    "test_data.drop_duplicates(['match_record_id', 'horse_name', 'h_no'], inplace=True)\n",
    "\n"
   ]
  },
  {
   "cell_type": "code",
   "execution_count": 3,
   "metadata": {},
   "outputs": [],
   "source": [
    "train_data.sort_values('match_record_id', inplace=True)\n",
    "test_data.sort_values('match_record_id', inplace=True)"
   ]
  },
  {
   "cell_type": "code",
   "execution_count": 4,
   "metadata": {},
   "outputs": [
    {
     "name": "stdout",
     "output_type": "stream",
     "text": [
      "Shape of train data:  (143126, 36)\n",
      "Shape of test data:  (44317, 32)\n",
      "\n",
      "No of unique matches in train data:  10356\n",
      "No of unique matches in test data:  3706\n"
     ]
    }
   ],
   "source": [
    "print(\"Shape of train data: \", train_data.shape)\n",
    "print(\"Shape of test data: \", test_data.shape, end='\\n\\n')\n",
    "print(\"No of unique matches in train data: \", train_data['match_record_id'].nunique())\n",
    "print(\"No of unique matches in test data: \", test_data['match_record_id'].nunique())\n"
   ]
  },
  {
   "cell_type": "code",
   "execution_count": 5,
   "metadata": {},
   "outputs": [],
   "source": [
    "train_data['rank'] = train_data['place'].apply(lambda x: 18 - x)\n",
    "test_data['rank'] = test_data['place'].apply(lambda x: 18 - x)"
   ]
  },
  {
   "cell_type": "code",
   "execution_count": 8,
   "metadata": {},
   "outputs": [
    {
     "name": "stdout",
     "output_type": "stream",
     "text": [
      "Dumped train data to file\n",
      "Dumped test data to file\n",
      "Copied vali data to test\n"
     ]
    }
   ],
   "source": [
    "feature_list = ['h_age', 'jockey_wt', 'horse_wt', 'race_length', 'track', 'odds_tan', 'odds_fuku', 'checkr']\n",
    "\n",
    "train_x = train_data[feature_list]\n",
    "train_y = train_data['rank']\n",
    "\n",
    "test_x = test_data[feature_list]\n",
    "test_y = test_data['rank']\n",
    "\n",
    "dump_svmlight_file(X=train_x, y=train_y, f='allrank/pony_data/train.txt', query_id = train_data['match_record_id'], zero_based=True)\n",
    "print(\"Dumped train data to file\")\n",
    "dump_svmlight_file(X=test_x, y=test_y, f='allrank/pony_data/vali.txt', query_id = test_data['match_record_id'], zero_based=True)\n",
    "print(\"Dumped test data to file\")\n",
    "\n",
    "import shutil\n",
    "shutil.copy('allrank/pony_data/vali.txt', 'allrank/pony_data/test.txt')\n",
    "print(\"Copied vali data to test\")"
   ]
  },
  {
   "cell_type": "code",
   "execution_count": 9,
   "metadata": {},
   "outputs": [
    {
     "data": {
      "text/html": [
       "<div>\n",
       "<style scoped>\n",
       "    .dataframe tbody tr th:only-of-type {\n",
       "        vertical-align: middle;\n",
       "    }\n",
       "\n",
       "    .dataframe tbody tr th {\n",
       "        vertical-align: top;\n",
       "    }\n",
       "\n",
       "    .dataframe thead th {\n",
       "        text-align: right;\n",
       "    }\n",
       "</style>\n",
       "<table border=\"1\" class=\"dataframe\">\n",
       "  <thead>\n",
       "    <tr style=\"text-align: right;\">\n",
       "      <th></th>\n",
       "      <th>h_age</th>\n",
       "      <th>jockey_wt</th>\n",
       "      <th>horse_wt</th>\n",
       "      <th>race_length</th>\n",
       "      <th>track</th>\n",
       "      <th>odds_tan</th>\n",
       "      <th>odds_fuku</th>\n",
       "      <th>checkr</th>\n",
       "    </tr>\n",
       "  </thead>\n",
       "  <tbody>\n",
       "    <tr>\n",
       "      <th>0</th>\n",
       "      <td>3</td>\n",
       "      <td>56.0</td>\n",
       "      <td>462</td>\n",
       "      <td>1200</td>\n",
       "      <td>3</td>\n",
       "      <td>2.0</td>\n",
       "      <td>1.1</td>\n",
       "      <td>1</td>\n",
       "    </tr>\n",
       "    <tr>\n",
       "      <th>58</th>\n",
       "      <td>3</td>\n",
       "      <td>56.0</td>\n",
       "      <td>486</td>\n",
       "      <td>1200</td>\n",
       "      <td>3</td>\n",
       "      <td>19.2</td>\n",
       "      <td>3.5</td>\n",
       "      <td>1</td>\n",
       "    </tr>\n",
       "    <tr>\n",
       "      <th>65</th>\n",
       "      <td>3</td>\n",
       "      <td>56.0</td>\n",
       "      <td>484</td>\n",
       "      <td>1200</td>\n",
       "      <td>3</td>\n",
       "      <td>7.5</td>\n",
       "      <td>1.9</td>\n",
       "      <td>1</td>\n",
       "    </tr>\n",
       "    <tr>\n",
       "      <th>73</th>\n",
       "      <td>3</td>\n",
       "      <td>51.0</td>\n",
       "      <td>482</td>\n",
       "      <td>1200</td>\n",
       "      <td>3</td>\n",
       "      <td>26.8</td>\n",
       "      <td>4.7</td>\n",
       "      <td>1</td>\n",
       "    </tr>\n",
       "    <tr>\n",
       "      <th>89</th>\n",
       "      <td>3</td>\n",
       "      <td>54.0</td>\n",
       "      <td>428</td>\n",
       "      <td>1200</td>\n",
       "      <td>3</td>\n",
       "      <td>10.8</td>\n",
       "      <td>2.0</td>\n",
       "      <td>1</td>\n",
       "    </tr>\n",
       "  </tbody>\n",
       "</table>\n",
       "</div>"
      ],
      "text/plain": [
       "    h_age  jockey_wt  horse_wt  race_length  track  odds_tan  odds_fuku  \\\n",
       "0       3       56.0       462         1200      3       2.0        1.1   \n",
       "58      3       56.0       486         1200      3      19.2        3.5   \n",
       "65      3       56.0       484         1200      3       7.5        1.9   \n",
       "73      3       51.0       482         1200      3      26.8        4.7   \n",
       "89      3       54.0       428         1200      3      10.8        2.0   \n",
       "\n",
       "    checkr  \n",
       "0        1  \n",
       "58       1  \n",
       "65       1  \n",
       "73       1  \n",
       "89       1  "
      ]
     },
     "execution_count": 9,
     "metadata": {},
     "output_type": "execute_result"
    }
   ],
   "source": [
    "train_x[feature_list].head()"
   ]
  },
  {
   "cell_type": "code",
   "execution_count": 6,
   "metadata": {},
   "outputs": [
    {
     "data": {
      "text/plain": [
       "2    11579\n",
       "Name: match_record_id, dtype: int64"
      ]
     },
     "execution_count": 6,
     "metadata": {},
     "output_type": "execute_result"
    }
   ],
   "source": [
    "test_data.loc[(test_data['odds_tan'] == 79.8) & (test_data['odds_fuku'] == 11), 'match_record_id']"
   ]
  },
  {
   "cell_type": "code",
   "execution_count": 7,
   "metadata": {},
   "outputs": [
    {
     "data": {
      "text/plain": [
       "Series([], Name: match_record_id, dtype: int64)"
      ]
     },
     "execution_count": 7,
     "metadata": {},
     "output_type": "execute_result"
    }
   ],
   "source": [
    "test_data.loc[(test_data['odds_tan'] == 32.4) & (test_data['odds_fuku'] == 11), 'match_record_id']"
   ]
  },
  {
   "cell_type": "code",
   "execution_count": 8,
   "metadata": {},
   "outputs": [
    {
     "data": {
      "text/html": [
       "<div>\n",
       "<style scoped>\n",
       "    .dataframe tbody tr th:only-of-type {\n",
       "        vertical-align: middle;\n",
       "    }\n",
       "\n",
       "    .dataframe tbody tr th {\n",
       "        vertical-align: top;\n",
       "    }\n",
       "\n",
       "    .dataframe thead th {\n",
       "        text-align: right;\n",
       "    }\n",
       "</style>\n",
       "<table border=\"1\" class=\"dataframe\">\n",
       "  <thead>\n",
       "    <tr style=\"text-align: right;\">\n",
       "      <th></th>\n",
       "      <th>h_no</th>\n",
       "      <th>h_age</th>\n",
       "      <th>odds_tan</th>\n",
       "      <th>odds_fuku</th>\n",
       "      <th>place</th>\n",
       "    </tr>\n",
       "  </thead>\n",
       "  <tbody>\n",
       "    <tr>\n",
       "      <th>35449</th>\n",
       "      <td>7</td>\n",
       "      <td>3</td>\n",
       "      <td>12.9</td>\n",
       "      <td>2.8</td>\n",
       "      <td>1.0</td>\n",
       "    </tr>\n",
       "    <tr>\n",
       "      <th>30587</th>\n",
       "      <td>12</td>\n",
       "      <td>3</td>\n",
       "      <td>5.6</td>\n",
       "      <td>1.9</td>\n",
       "      <td>2.0</td>\n",
       "    </tr>\n",
       "    <tr>\n",
       "      <th>20910</th>\n",
       "      <td>11</td>\n",
       "      <td>3</td>\n",
       "      <td>9.5</td>\n",
       "      <td>2.2</td>\n",
       "      <td>3.0</td>\n",
       "    </tr>\n",
       "    <tr>\n",
       "      <th>32944</th>\n",
       "      <td>15</td>\n",
       "      <td>3</td>\n",
       "      <td>54.5</td>\n",
       "      <td>10.1</td>\n",
       "      <td>5.0</td>\n",
       "    </tr>\n",
       "    <tr>\n",
       "      <th>35433</th>\n",
       "      <td>6</td>\n",
       "      <td>3</td>\n",
       "      <td>4.1</td>\n",
       "      <td>1.5</td>\n",
       "      <td>6.0</td>\n",
       "    </tr>\n",
       "    <tr>\n",
       "      <th>35462</th>\n",
       "      <td>9</td>\n",
       "      <td>3</td>\n",
       "      <td>63.4</td>\n",
       "      <td>9.9</td>\n",
       "      <td>7.0</td>\n",
       "    </tr>\n",
       "    <tr>\n",
       "      <th>29607</th>\n",
       "      <td>10</td>\n",
       "      <td>3</td>\n",
       "      <td>4.1</td>\n",
       "      <td>1.5</td>\n",
       "      <td>9.0</td>\n",
       "    </tr>\n",
       "    <tr>\n",
       "      <th>30610</th>\n",
       "      <td>5</td>\n",
       "      <td>3</td>\n",
       "      <td>78.0</td>\n",
       "      <td>10.4</td>\n",
       "      <td>10.0</td>\n",
       "    </tr>\n",
       "    <tr>\n",
       "      <th>38171</th>\n",
       "      <td>16</td>\n",
       "      <td>3</td>\n",
       "      <td>42.7</td>\n",
       "      <td>7.7</td>\n",
       "      <td>11.0</td>\n",
       "    </tr>\n",
       "    <tr>\n",
       "      <th>35485</th>\n",
       "      <td>14</td>\n",
       "      <td>3</td>\n",
       "      <td>218.2</td>\n",
       "      <td>23.6</td>\n",
       "      <td>12.0</td>\n",
       "    </tr>\n",
       "    <tr>\n",
       "      <th>2</th>\n",
       "      <td>4</td>\n",
       "      <td>3</td>\n",
       "      <td>79.8</td>\n",
       "      <td>11.0</td>\n",
       "      <td>13.0</td>\n",
       "    </tr>\n",
       "    <tr>\n",
       "      <th>8020</th>\n",
       "      <td>8</td>\n",
       "      <td>3</td>\n",
       "      <td>334.5</td>\n",
       "      <td>43.3</td>\n",
       "      <td>14.0</td>\n",
       "    </tr>\n",
       "    <tr>\n",
       "      <th>35475</th>\n",
       "      <td>2</td>\n",
       "      <td>3</td>\n",
       "      <td>286.1</td>\n",
       "      <td>34.6</td>\n",
       "      <td>15.0</td>\n",
       "    </tr>\n",
       "    <tr>\n",
       "      <th>29106</th>\n",
       "      <td>1</td>\n",
       "      <td>3</td>\n",
       "      <td>84.8</td>\n",
       "      <td>12.3</td>\n",
       "      <td>16.0</td>\n",
       "    </tr>\n",
       "  </tbody>\n",
       "</table>\n",
       "</div>"
      ],
      "text/plain": [
       "       h_no  h_age  odds_tan  odds_fuku  place\n",
       "35449     7      3      12.9        2.8    1.0\n",
       "30587    12      3       5.6        1.9    2.0\n",
       "20910    11      3       9.5        2.2    3.0\n",
       "32944    15      3      54.5       10.1    5.0\n",
       "35433     6      3       4.1        1.5    6.0\n",
       "35462     9      3      63.4        9.9    7.0\n",
       "29607    10      3       4.1        1.5    9.0\n",
       "30610     5      3      78.0       10.4   10.0\n",
       "38171    16      3      42.7        7.7   11.0\n",
       "35485    14      3     218.2       23.6   12.0\n",
       "2         4      3      79.8       11.0   13.0\n",
       "8020      8      3     334.5       43.3   14.0\n",
       "35475     2      3     286.1       34.6   15.0\n",
       "29106     1      3      84.8       12.3   16.0"
      ]
     },
     "execution_count": 8,
     "metadata": {},
     "output_type": "execute_result"
    }
   ],
   "source": [
    "test_data.loc[test_data['match_record_id'] == 11579, ['h_no', 'h_age', 'odds_tan', 'odds_fuku', 'place']].sort_values('place')"
   ]
  },
  {
   "cell_type": "code",
   "execution_count": 9,
   "metadata": {},
   "outputs": [
    {
     "data": {
      "text/plain": [
       "3706"
      ]
     },
     "execution_count": 9,
     "metadata": {},
     "output_type": "execute_result"
    }
   ],
   "source": [
    "test_data['match_record_id'].nunique()"
   ]
  },
  {
   "cell_type": "code",
   "execution_count": 13,
   "metadata": {},
   "outputs": [],
   "source": [
    "from sklearn.datasets import load_svmlight_file\n",
    "\n",
    "x, y, query_ids = load_svmlight_file('allrank/pony_data/test.txt', query_id=True)"
   ]
  },
  {
   "cell_type": "code",
   "execution_count": 15,
   "metadata": {},
   "outputs": [
    {
     "name": "stdout",
     "output_type": "stream",
     "text": [
      "Shape of x:  (44317, 8)\n",
      "Shape of y:  (44317,)\n",
      "Shape of query_ids:  (44317,)\n"
     ]
    }
   ],
   "source": [
    "print(\"Shape of x: \", x.shape)\n",
    "print(\"Shape of y: \", y.shape)\n",
    "print(\"Shape of query_ids: \", query_ids.shape)\n"
   ]
  },
  {
   "cell_type": "code",
   "execution_count": 18,
   "metadata": {},
   "outputs": [
    {
     "data": {
      "text/plain": [
       "array([10370, 10370, 10370, 10370, 10370, 10370, 10370, 10370, 10370,\n",
       "       10370, 10370, 10370, 10370, 10370, 10370, 10370, 10371, 10371,\n",
       "       10371, 10371, 10371, 10371, 10371, 10371, 10371, 10371, 10371,\n",
       "       10371, 10371, 10371, 10371, 10371, 10373, 10373, 10373, 10373,\n",
       "       10373, 10373, 10373, 10373, 10373, 10373, 10373, 10373, 10373,\n",
       "       10373, 10373, 10374, 10374, 10374, 10374, 10374, 10374, 10374,\n",
       "       10374, 10374, 10374, 10374, 10374, 10374, 10374, 10374, 10374,\n",
       "       10375, 10375, 10375, 10375, 10375, 10375, 10375, 10375, 10375,\n",
       "       10375, 10375, 10376, 10376, 10376, 10376, 10376, 10376, 10376,\n",
       "       10376, 10376, 10376, 10376, 10376, 10376, 10376, 10376, 10376,\n",
       "       10377, 10377, 10377, 10377, 10377, 10377, 10377, 10377, 10377,\n",
       "       10377])"
      ]
     },
     "execution_count": 18,
     "metadata": {},
     "output_type": "execute_result"
    }
   ],
   "source": [
    "query_ids[:100]"
   ]
  },
  {
   "cell_type": "code",
   "execution_count": null,
   "metadata": {},
   "outputs": [],
   "source": []
  },
  {
   "cell_type": "markdown",
   "metadata": {},
   "source": [
    "# Inference"
   ]
  },
  {
   "cell_type": "code",
   "execution_count": 36,
   "metadata": {},
   "outputs": [],
   "source": [
    "import os\n",
    "os.chdir('/home/shivam13juna/Documents/learn/allRank/')\n",
    "\n",
    "\n",
    "import torch\n",
    "import numpy as np\n",
    "import pandas as pd\n",
    "import allrank.models.losses as losses\n",
    "\n",
    "\n",
    "from allrank.config import Config\n",
    "from torch.utils.data import Dataset\n",
    "from torch.utils.data import DataLoader\n",
    "from allrank.models.model import LTRModel\n",
    "from allrank.models.model import make_model\n",
    "from allrank.models.metrics import ndcg, dcg\n",
    "from typing import Tuple, Dict, List, Generator\n",
    "from torch.utils.data.dataloader import DataLoader\n",
    "from allrank.data.inf_dataset_loading import *\n",
    "from allrank.models.model_utils import *\n",
    "from allrank.inference.inference_utils import __rank_slates\n",
    "\n",
    "\n",
    "\n",
    "from allrank.utils.python_utils import all_equal\n",
    "from attr import asdict"
   ]
  },
  {
   "cell_type": "code",
   "execution_count": 37,
   "metadata": {},
   "outputs": [
    {
     "data": {
      "text/plain": [
       "<All keys matched successfully>"
      ]
     },
     "execution_count": 37,
     "metadata": {},
     "output_type": "execute_result"
    }
   ],
   "source": [
    "topn = 20\n",
    "test_path = f'pony/results/pony'\n",
    "# dev = get_torch_device()\n",
    "dev = torch.device(\"cpu\")\n",
    "\n",
    "#creating datset and dataloader instances\n",
    "test_ds = load_libsvm_dataset_role('test', 'allrank/pony_data/', topn )\n",
    "_, test_dl = create_data_loaders(test_ds, test_ds, num_workers=1, batch_size=test_ds.shape[0])\n",
    "\n",
    "n_features = test_ds.shape[-1]\n",
    "assert all_equal([n_features]), f\"Last dimensions of datasets must match but got {n_features}\"\n",
    "\n",
    "#loading trained model\n",
    "config = Config.from_json(f'{test_path}/used_config.json')\n",
    "model = make_model(n_features=n_features, **asdict(config.model, recurse=False))\n",
    "model.load_state_dict(load_state_dict_from_file(f'{test_path}/model.pkl', dev))"
   ]
  },
  {
   "cell_type": "code",
   "execution_count": 38,
   "metadata": {},
   "outputs": [],
   "source": [
    "x_, y_ = __rank_slates(test_dl, model)\n",
    "\n",
    "with open(f'{test_path}/test_pred.csv', 'w') as f:\n",
    "        f.write(f'qid,eid,pred_score,true_sorted_by_pred\\n')\n",
    "        for i, (qid, count) in enumerate(test_dl.dataset.query_ids.items()):\n",
    "            for j in range(count):\n",
    "                f.write(f'{qid},{int(x_[i, j, -1])},{topn - j},{int(y_[i, j])}\\n')\n",
    "    \n",
    "#again do the prediction for metrics calculation. I couldn't find a better way to do it reusing *y_ * in the above\n",
    "# results = compute_metrics(config.metrics, model, test_dl, dev)"
   ]
  },
  {
   "cell_type": "code",
   "execution_count": 39,
   "metadata": {},
   "outputs": [
    {
     "data": {
      "text/plain": [
       "torch.Size([18, 7])"
      ]
     },
     "execution_count": 39,
     "metadata": {},
     "output_type": "execute_result"
    }
   ],
   "source": [
    "x_[0].shape"
   ]
  },
  {
   "cell_type": "code",
   "execution_count": 40,
   "metadata": {},
   "outputs": [
    {
     "data": {
      "text/plain": [
       "torch.Size([18])"
      ]
     },
     "execution_count": 40,
     "metadata": {},
     "output_type": "execute_result"
    }
   ],
   "source": [
    "y_[0].shape"
   ]
  },
  {
   "cell_type": "code",
   "execution_count": 6,
   "metadata": {},
   "outputs": [],
   "source": [
    "np.set_printoptions(formatter={'all':lambda x: str(x)})"
   ]
  },
  {
   "cell_type": "code",
   "execution_count": 41,
   "metadata": {},
   "outputs": [
    {
     "name": "stdout",
     "output_type": "stream",
     "text": [
      "X:  [[3.0 56.0 466.0 1200.0 3.0 1.8 1.1]\n",
      " [3.0 54.0 452.0 1200.0 3.0 5.3 1.3]\n",
      " [3.0 51.0 452.0 1200.0 3.0 8.9 1.6]\n",
      " [3.0 56.0 516.0 1200.0 3.0 9.0 2.0]\n",
      " [3.0 55.0 488.0 1200.0 3.0 13.6 2.7]\n",
      " [3.0 56.0 460.0 1200.0 3.0 15.7 2.1]\n",
      " [3.0 56.0 484.0 1200.0 3.0 17.9 3.8]\n",
      " [3.0 56.0 446.0 1200.0 3.0 29.5 5.2]\n",
      " [3.0 56.0 472.0 1200.0 3.0 41.6 5.7]\n",
      " [3.0 56.0 488.0 1200.0 3.0 43.0 6.7]\n",
      " [3.0 54.0 414.0 1200.0 3.0 103.0 13.5]\n",
      " [3.0 55.0 460.0 1200.0 3.0 108.4 16.2]\n",
      " [3.0 53.0 416.0 1200.0 3.0 116.9 14.2]\n",
      " [3.0 52.0 438.0 1200.0 3.0 181.1 34.1]\n",
      " [3.0 54.0 412.0 1200.0 3.0 337.3 45.2]\n",
      " [3.0 53.0 434.0 1200.0 3.0 440.6 69.3]\n",
      " [0.0 0.0 0.0 0.0 0.0 0.0 0.0]\n",
      " [0.0 0.0 0.0 0.0 0.0 0.0 0.0]]\n",
      "Y:  tensor([17., 12., 16., 13., 15., 14., 10.,  6.,  8.,  3.,  7., 11.,  4.,  9.,\n",
      "         2.,  5., -1., -1.])\n"
     ]
    }
   ],
   "source": [
    "print(\"X: \", x_[0].numpy())\n",
    "print(\"Y: \", y_[0])\n",
    "\n"
   ]
  },
  {
   "cell_type": "code",
   "execution_count": 54,
   "metadata": {},
   "outputs": [
    {
     "name": "stdout",
     "output_type": "stream",
     "text": [
      "Accuracy:  0.5833783054506206 2162 3706\n"
     ]
    }
   ],
   "source": [
    "count = 0\n",
    "net = 0\n",
    "\n",
    "for i in y_:\n",
    "    a = np.array(i)\n",
    "    if a[0] == 17 or a[1] == 17 or a[2] == 17:\n",
    "        count += 1\n",
    "        net += 1\n",
    "    else:\n",
    "        net += 1\n",
    "print(\"Accuracy: \", count/net, count, net)"
   ]
  },
  {
   "cell_type": "code",
   "execution_count": null,
   "metadata": {},
   "outputs": [],
   "source": []
  },
  {
   "cell_type": "code",
   "execution_count": 56,
   "metadata": {},
   "outputs": [
    {
     "name": "stdout",
     "output_type": "stream",
     "text": [
      "Accuracy that one among the predicted top 3 is in rank 1:  0.5794316644113667\n",
      "Accuracy that one among the predicted top 3 is in rank 1 or 2:  0.7959404600811908\n",
      "Accuracy that one among the predicted top 3 is in rank 1 or 2 or 3:  0.8976995940460081\n",
      "count and net are:  2141 3695\n"
     ]
    }
   ],
   "source": [
    "import joblib\n",
    "import pandas as pd\n",
    "import seaborn as sns\n",
    "import xgboost as xgb\n",
    "import matplotlib.pyplot as plt\n",
    "\n",
    "\n",
    "from lib import sorter\n",
    "\n",
    "from xgboost import DMatrix\n",
    "from functools import reduce\n",
    "from numerize import numerize\n",
    "from datetime import datetime, date\n",
    "from sklearn.model_selection import GroupShuffleSplit\n",
    "\n",
    "\n",
    "\n",
    "gbm_model = joblib.load('/home/shivam13juna/Documents/upwork/baran_pony/tmp/gbm_model.pkl')\n",
    "def predict(model, data, feature_list):\n",
    "    predictions = np.argsort(model.predict(DMatrix(data[feature_list].values)))\n",
    "    # print('*' * 100)\n",
    "    # print(\"we predictions:\", predictions)\n",
    "    # print(\"they predictions: \", data.iloc[predictions]['place'].values)\n",
    "    # print(\"act_place: \", data['place'].values)\n",
    "    # print('*' * 100)\n",
    "    return data.iloc[predictions]['place'].values\n",
    "\n",
    "\n",
    "\n",
    "def find_accuracy(output):\n",
    "    try:\n",
    "        count1 = 0\n",
    "        count2 = 0\n",
    "        count3 = 0\n",
    "        out = 0\n",
    "        for i in output:\n",
    "            if len(i) < 3:\n",
    "                continue\n",
    "            try:\n",
    "#                 if i[0] == 1 or i[1] == 1 or i[0] == 2 or i[1] == 2:\n",
    "                if i[0] == 1 or i[1] == 1 or i[2] == 1:\n",
    "                    count1+=1\n",
    "                if i[0] == 1 or i[1] == 1 or i[2] == 1 or i[0] == 2 or i[1] == 2 or i[2] == 2:\n",
    "                    count2+=1\n",
    "                if i[0] == 1 or i[1] == 1 or i[2] == 1 or i[0] == 2 or i[1] == 2 or i[2] == 2 or i[0] == 3 or i[1] == 3 or i[2] == 3:\n",
    "                    count3+=1\n",
    "                out += 1\n",
    "            except Exception as e:\n",
    "                print(i)\n",
    "\n",
    "\n",
    "        return count1/out, count2/out, count3/out, count1, out\n",
    "    except:\n",
    "        print(\"couldn't process, check data\")\n",
    "        \n",
    "        \n",
    "def find_wide(output):\n",
    "    try:\n",
    "        count = 0\n",
    "\n",
    "        out = 0\n",
    "        for i in output:\n",
    "            if len(i) < 3:\n",
    "                continue\n",
    "            try:\n",
    "                if (i[0] == 1 and i[1] == 2) or (i[0] == 2 and i[1] == 1) or (i[0] == 2 and i[1] == 3) or (i[0] == 3 and i[1] == 2) or (i[0] == 1 and i[1] == 3) or (i[0] == 3 and i[1] == 1):  \n",
    "                    count += 1\n",
    "\n",
    "                out += 1\n",
    "            except:\n",
    "                print(i)\n",
    "\n",
    "\n",
    "        return count/out\n",
    "    except:\n",
    "        print(\"couldn't process, check data\")\n",
    "\n",
    "    \n",
    "output = test_data.groupby('unq_id').apply(lambda x: predict(gbm_model, x, feature_list)).reset_index().rename(columns={0:'prediction'})\n",
    "curr_acc = find_accuracy(output['prediction'].values)\n",
    "# wide_acc = find_wide(output['prediction'].values)\n",
    "print(\"Accuracy that one among the predicted top 3 is in rank 1: \", curr_acc[0])\n",
    "print(\"Accuracy that one among the predicted top 3 is in rank 1 or 2: \", curr_acc[1])\n",
    "print(\"Accuracy that one among the predicted top 3 is in rank 1 or 2 or 3: \", curr_acc[2])\n",
    "print(\"count and net are: \", curr_acc[3], curr_acc[4])\n",
    "# print(\"Wide Acc: \", wide_acc)"
   ]
  },
  {
   "cell_type": "code",
   "execution_count": null,
   "metadata": {},
   "outputs": [],
   "source": []
  },
  {
   "cell_type": "code",
   "execution_count": 8,
   "metadata": {},
   "outputs": [],
   "source": [
    "# test_ds = load_libsvm_dataset_role('test', 'allrank/pony_data/', topn )\n",
    "# _, test_dl = create_data_loaders(test_ds, test_ds, num_workers=1, batch_size=test_ds.shape[0])\n",
    "\n",
    "for x, y, z in test_dl:\n",
    "    break"
   ]
  },
  {
   "cell_type": "code",
   "execution_count": 9,
   "metadata": {},
   "outputs": [
    {
     "name": "stdout",
     "output_type": "stream",
     "text": [
      "x shape:  torch.Size([3706, 18, 8])\n",
      "y shape:  torch.Size([3706, 18])\n",
      "z shape:  torch.Size([3706, 18])\n"
     ]
    }
   ],
   "source": [
    "print(\"x shape: \", x.shape)\n",
    "print(\"y shape: \", y.shape)\n",
    "print(\"z shape: \", z.shape)\n"
   ]
  },
  {
   "cell_type": "code",
   "execution_count": null,
   "metadata": {},
   "outputs": [],
   "source": [
    "reranked_X = []\n",
    "reranked_y = []\n",
    "model.eval()\n",
    "# device = get_torch_device()\n",
    "device = torch.device(\"cpu\")\n",
    "with torch.no_grad():\n",
    "    for xb, yb, _ in test_dl:\n",
    "        X = xb.type(torch.float32).to(device=device)\n",
    "        y_true = yb.to(device=device)\n",
    "\n",
    "        input_indices = torch.ones_like(y_true).type(torch.long)\n",
    "        mask = (y_true == losses.PADDED_Y_VALUE)\n",
    "        scores = model.score(X, mask, input_indices)\n",
    "\n",
    "        scores[mask] = float('-inf')\n",
    "\n",
    "        _, indices = scores.sort(descending=True, dim=-1)\n",
    "        indices_X = torch.unsqueeze(indices, -1).repeat_interleave(X.shape[-1], -1)\n",
    "        reranked_X.append(torch.gather(X, dim=1, index=indices_X).cpu())\n",
    "        reranked_y.append(torch.gather(y_true, dim=1, index=indices).cpu())\n",
    "\n",
    "combined_X = torch.cat(reranked_X)\n",
    "combined_y = torch.cat(reranked_y)"
   ]
  },
  {
   "cell_type": "code",
   "execution_count": 17,
   "metadata": {},
   "outputs": [],
   "source": [
    "value = model.score(x, (y == losses.PADDED_Y_VALUE), torch.ones_like(y).type(torch.long))"
   ]
  },
  {
   "cell_type": "code",
   "execution_count": 18,
   "metadata": {},
   "outputs": [
    {
     "data": {
      "text/plain": [
       "torch.return_types.sort(\n",
       "values=tensor([[0.8256, 0.7734, 0.6858,  ..., 0.5553, 0.0019, 0.0019],\n",
       "        [0.7352, 0.7024, 0.6435,  ..., 0.5243, 0.0022, 0.0022],\n",
       "        [0.8241, 0.5898, 0.5891,  ..., 0.0022, 0.0022, 0.0022],\n",
       "        ...,\n",
       "        [0.6273, 0.6271, 0.6269,  ..., 0.0018, 0.0018, 0.0018],\n",
       "        [0.6219, 0.6172, 0.6125,  ..., 0.5971, 0.0018, 0.0018],\n",
       "        [0.6405, 0.6356, 0.6311,  ..., 0.0017, 0.0017, 0.0017]],\n",
       "       grad_fn=<SortBackward0>),\n",
       "indices=tensor([[14,  1,  7,  ...,  0, 16, 17],\n",
       "        [13,  2, 15,  ...,  6, 16, 17],\n",
       "        [ 5, 13,  1,  ..., 15, 16, 17],\n",
       "        ...,\n",
       "        [ 2,  3,  5,  ...,  9,  8,  7],\n",
       "        [ 5, 10,  4,  ...,  1, 16, 17],\n",
       "        [ 3,  5,  2,  ..., 15, 16, 17]]))"
      ]
     },
     "execution_count": 18,
     "metadata": {},
     "output_type": "execute_result"
    }
   ],
   "source": [
    "value.sort(descending=True, dim=-1)"
   ]
  },
  {
   "cell_type": "code",
   "execution_count": 16,
   "metadata": {},
   "outputs": [
    {
     "data": {
      "text/plain": [
       "tensor([ 1., 16., 15., 14., 12., 11., 10.,  9.,  8.,  7.,  6.,  5.,  4.,  3.,\n",
       "        13.,  2., -1., -1.])"
      ]
     },
     "execution_count": 16,
     "metadata": {},
     "output_type": "execute_result"
    }
   ],
   "source": [
    "y[0]"
   ]
  },
  {
   "cell_type": "code",
   "execution_count": 13,
   "metadata": {},
   "outputs": [
    {
     "data": {
      "text/plain": [
       "array([[3.0, 56.0, 466.0, 1200.0, 3.0, 1.8, 1.1, 10370.0],\n",
       "       [3.0, 54.0, 412.0, 1200.0, 3.0, 337.3, 45.2, 10370.0],\n",
       "       [3.0, 56.0, 488.0, 1200.0, 3.0, 43.0, 6.7, 10370.0],\n",
       "       [3.0, 53.0, 416.0, 1200.0, 3.0, 116.9, 14.2, 10370.0],\n",
       "       [3.0, 56.0, 446.0, 1200.0, 3.0, 29.5, 5.2, 10370.0],\n",
       "       [3.0, 54.0, 414.0, 1200.0, 3.0, 103.0, 13.5, 10370.0],\n",
       "       [3.0, 56.0, 472.0, 1200.0, 3.0, 41.6, 5.7, 10370.0],\n",
       "       [3.0, 52.0, 438.0, 1200.0, 3.0, 181.1, 34.1, 10370.0],\n",
       "       [3.0, 56.0, 484.0, 1200.0, 3.0, 17.9, 3.8, 10370.0],\n",
       "       [3.0, 55.0, 460.0, 1200.0, 3.0, 108.4, 16.2, 10370.0],\n",
       "       [3.0, 54.0, 452.0, 1200.0, 3.0, 5.3, 1.3, 10370.0],\n",
       "       [3.0, 56.0, 516.0, 1200.0, 3.0, 9.0, 2.0, 10370.0],\n",
       "       [3.0, 56.0, 460.0, 1200.0, 3.0, 15.7, 2.1, 10370.0],\n",
       "       [3.0, 55.0, 488.0, 1200.0, 3.0, 13.6, 2.7, 10370.0],\n",
       "       [3.0, 53.0, 434.0, 1200.0, 3.0, 440.6, 69.3, 10370.0],\n",
       "       [3.0, 51.0, 452.0, 1200.0, 3.0, 8.9, 1.6, 10370.0],\n",
       "       [0.0, 0.0, 0.0, 0.0, 0.0, 0.0, 0.0, 0.0],\n",
       "       [0.0, 0.0, 0.0, 0.0, 0.0, 0.0, 0.0, 0.0]], dtype=float32)"
      ]
     },
     "execution_count": 13,
     "metadata": {},
     "output_type": "execute_result"
    }
   ],
   "source": [
    "x[0].numpy()"
   ]
  },
  {
   "cell_type": "code",
   "execution_count": 36,
   "metadata": {},
   "outputs": [
    {
     "data": {
      "text/plain": [
       "2    11579\n",
       "Name: match_record_id, dtype: int64"
      ]
     },
     "execution_count": 36,
     "metadata": {},
     "output_type": "execute_result"
    }
   ],
   "source": [
    "test_data.loc[(test_data['odds_tan'] == 79.8) & (test_data['odds_fuku'] == 11), 'match_record_id']\n"
   ]
  },
  {
   "cell_type": "code",
   "execution_count": 49,
   "metadata": {},
   "outputs": [
    {
     "data": {
      "text/html": [
       "<div>\n",
       "<style scoped>\n",
       "    .dataframe tbody tr th:only-of-type {\n",
       "        vertical-align: middle;\n",
       "    }\n",
       "\n",
       "    .dataframe tbody tr th {\n",
       "        vertical-align: top;\n",
       "    }\n",
       "\n",
       "    .dataframe thead th {\n",
       "        text-align: right;\n",
       "    }\n",
       "</style>\n",
       "<table border=\"1\" class=\"dataframe\">\n",
       "  <thead>\n",
       "    <tr style=\"text-align: right;\">\n",
       "      <th></th>\n",
       "      <th>h_no</th>\n",
       "      <th>h_age</th>\n",
       "      <th>odds_tan</th>\n",
       "      <th>odds_fuku</th>\n",
       "      <th>place</th>\n",
       "    </tr>\n",
       "  </thead>\n",
       "  <tbody>\n",
       "    <tr>\n",
       "      <th>1346</th>\n",
       "      <td>7</td>\n",
       "      <td>3</td>\n",
       "      <td>2.8</td>\n",
       "      <td>1.4</td>\n",
       "      <td>1.0</td>\n",
       "    </tr>\n",
       "    <tr>\n",
       "      <th>1360</th>\n",
       "      <td>16</td>\n",
       "      <td>3</td>\n",
       "      <td>5.0</td>\n",
       "      <td>1.6</td>\n",
       "      <td>2.0</td>\n",
       "    </tr>\n",
       "    <tr>\n",
       "      <th>1373</th>\n",
       "      <td>8</td>\n",
       "      <td>3</td>\n",
       "      <td>4.5</td>\n",
       "      <td>1.4</td>\n",
       "      <td>3.0</td>\n",
       "    </tr>\n",
       "    <tr>\n",
       "      <th>1386</th>\n",
       "      <td>6</td>\n",
       "      <td>3</td>\n",
       "      <td>14.9</td>\n",
       "      <td>2.9</td>\n",
       "      <td>4.0</td>\n",
       "    </tr>\n",
       "    <tr>\n",
       "      <th>1392</th>\n",
       "      <td>2</td>\n",
       "      <td>3</td>\n",
       "      <td>331.3</td>\n",
       "      <td>48.6</td>\n",
       "      <td>5.0</td>\n",
       "    </tr>\n",
       "    <tr>\n",
       "      <th>1405</th>\n",
       "      <td>10</td>\n",
       "      <td>3</td>\n",
       "      <td>10.4</td>\n",
       "      <td>2.4</td>\n",
       "      <td>6.0</td>\n",
       "    </tr>\n",
       "    <tr>\n",
       "      <th>1410</th>\n",
       "      <td>1</td>\n",
       "      <td>3</td>\n",
       "      <td>69.6</td>\n",
       "      <td>11.2</td>\n",
       "      <td>7.0</td>\n",
       "    </tr>\n",
       "    <tr>\n",
       "      <th>1418</th>\n",
       "      <td>4</td>\n",
       "      <td>3</td>\n",
       "      <td>51.9</td>\n",
       "      <td>7.4</td>\n",
       "      <td>8.0</td>\n",
       "    </tr>\n",
       "    <tr>\n",
       "      <th>1421</th>\n",
       "      <td>14</td>\n",
       "      <td>3</td>\n",
       "      <td>154.3</td>\n",
       "      <td>18.3</td>\n",
       "      <td>9.0</td>\n",
       "    </tr>\n",
       "    <tr>\n",
       "      <th>1424</th>\n",
       "      <td>15</td>\n",
       "      <td>3</td>\n",
       "      <td>157.2</td>\n",
       "      <td>19.1</td>\n",
       "      <td>10.0</td>\n",
       "    </tr>\n",
       "    <tr>\n",
       "      <th>1427</th>\n",
       "      <td>11</td>\n",
       "      <td>3</td>\n",
       "      <td>6.2</td>\n",
       "      <td>1.6</td>\n",
       "      <td>11.0</td>\n",
       "    </tr>\n",
       "    <tr>\n",
       "      <th>1432</th>\n",
       "      <td>3</td>\n",
       "      <td>3</td>\n",
       "      <td>42.8</td>\n",
       "      <td>7.0</td>\n",
       "      <td>12.0</td>\n",
       "    </tr>\n",
       "    <tr>\n",
       "      <th>1433</th>\n",
       "      <td>13</td>\n",
       "      <td>3</td>\n",
       "      <td>37.0</td>\n",
       "      <td>5.9</td>\n",
       "      <td>13.0</td>\n",
       "    </tr>\n",
       "    <tr>\n",
       "      <th>1436</th>\n",
       "      <td>12</td>\n",
       "      <td>3</td>\n",
       "      <td>48.3</td>\n",
       "      <td>10.3</td>\n",
       "      <td>14.0</td>\n",
       "    </tr>\n",
       "    <tr>\n",
       "      <th>1440</th>\n",
       "      <td>9</td>\n",
       "      <td>3</td>\n",
       "      <td>24.1</td>\n",
       "      <td>5.4</td>\n",
       "      <td>15.0</td>\n",
       "    </tr>\n",
       "    <tr>\n",
       "      <th>1448</th>\n",
       "      <td>5</td>\n",
       "      <td>3</td>\n",
       "      <td>308.3</td>\n",
       "      <td>48.6</td>\n",
       "      <td>16.0</td>\n",
       "    </tr>\n",
       "  </tbody>\n",
       "</table>\n",
       "</div>"
      ],
      "text/plain": [
       "      h_no  h_age  odds_tan  odds_fuku  place\n",
       "1346     7      3       2.8        1.4    1.0\n",
       "1360    16      3       5.0        1.6    2.0\n",
       "1373     8      3       4.5        1.4    3.0\n",
       "1386     6      3      14.9        2.9    4.0\n",
       "1392     2      3     331.3       48.6    5.0\n",
       "1405    10      3      10.4        2.4    6.0\n",
       "1410     1      3      69.6       11.2    7.0\n",
       "1418     4      3      51.9        7.4    8.0\n",
       "1421    14      3     154.3       18.3    9.0\n",
       "1424    15      3     157.2       19.1   10.0\n",
       "1427    11      3       6.2        1.6   11.0\n",
       "1432     3      3      42.8        7.0   12.0\n",
       "1433    13      3      37.0        5.9   13.0\n",
       "1436    12      3      48.3       10.3   14.0\n",
       "1440     9      3      24.1        5.4   15.0\n",
       "1448     5      3     308.3       48.6   16.0"
      ]
     },
     "execution_count": 49,
     "metadata": {},
     "output_type": "execute_result"
    }
   ],
   "source": [
    "\n",
    "test_data.loc[test_data['match_record_id'] == 10383, ['h_no', 'h_age', 'odds_tan', 'odds_fuku', 'place']].sort_values('place')"
   ]
  },
  {
   "cell_type": "code",
   "execution_count": 12,
   "metadata": {},
   "outputs": [],
   "source": [
    "def conv_libsvm_to_pandas(svmformat_file):\n",
    "    # Read to list\n",
    "    with open(svmformat_file, mode=\"r\") as fp:\n",
    "        svmformat_list = fp.readlines()\n",
    "\n",
    "    # For each line we save the key:values to a dict\n",
    "    pandas_list = []\n",
    "    for line in svmformat_list:\n",
    "        line_dict = dict()\n",
    "\n",
    "        line_split = line.split(' ')\n",
    "        line_dict[\"label\"] = line_split[0]\n",
    "\n",
    "        for col in line_split[1:]:\n",
    "            col = col.rstrip()  # Remove '\\n'\n",
    "            col_split = col.split(':')\n",
    "            key, value = col_split[0], col_split[1]\n",
    "            line_dict[key] = value\n",
    "\n",
    "        pandas_list.append(line_dict)\n",
    "    return pd.DataFrame(pandas_list)\n",
    "ano = conv_libsvm_to_pandas('allrank/pony_data/test.txt')"
   ]
  },
  {
   "cell_type": "code",
   "execution_count": 14,
   "metadata": {},
   "outputs": [
    {
     "data": {
      "text/html": [
       "<div>\n",
       "<style scoped>\n",
       "    .dataframe tbody tr th:only-of-type {\n",
       "        vertical-align: middle;\n",
       "    }\n",
       "\n",
       "    .dataframe tbody tr th {\n",
       "        vertical-align: top;\n",
       "    }\n",
       "\n",
       "    .dataframe thead th {\n",
       "        text-align: right;\n",
       "    }\n",
       "</style>\n",
       "<table border=\"1\" class=\"dataframe\">\n",
       "  <thead>\n",
       "    <tr style=\"text-align: right;\">\n",
       "      <th></th>\n",
       "      <th>label</th>\n",
       "      <th>qid</th>\n",
       "      <th>0</th>\n",
       "      <th>1</th>\n",
       "      <th>2</th>\n",
       "      <th>3</th>\n",
       "      <th>4</th>\n",
       "    </tr>\n",
       "  </thead>\n",
       "  <tbody>\n",
       "    <tr>\n",
       "      <th>0</th>\n",
       "      <td>8</td>\n",
       "      <td>18361</td>\n",
       "      <td>8</td>\n",
       "      <td>57</td>\n",
       "      <td>508</td>\n",
       "      <td>1700</td>\n",
       "      <td>3</td>\n",
       "    </tr>\n",
       "    <tr>\n",
       "      <th>1</th>\n",
       "      <td>6</td>\n",
       "      <td>18098</td>\n",
       "      <td>7</td>\n",
       "      <td>57</td>\n",
       "      <td>506</td>\n",
       "      <td>1200</td>\n",
       "      <td>2</td>\n",
       "    </tr>\n",
       "    <tr>\n",
       "      <th>2</th>\n",
       "      <td>9</td>\n",
       "      <td>18361</td>\n",
       "      <td>8</td>\n",
       "      <td>57</td>\n",
       "      <td>470</td>\n",
       "      <td>1700</td>\n",
       "      <td>3</td>\n",
       "    </tr>\n",
       "    <tr>\n",
       "      <th>3</th>\n",
       "      <td>9</td>\n",
       "      <td>18247</td>\n",
       "      <td>11</td>\n",
       "      <td>62</td>\n",
       "      <td>446</td>\n",
       "      <td>2750</td>\n",
       "      <td>2</td>\n",
       "    </tr>\n",
       "    <tr>\n",
       "      <th>4</th>\n",
       "      <td>11</td>\n",
       "      <td>17989</td>\n",
       "      <td>10</td>\n",
       "      <td>53</td>\n",
       "      <td>490</td>\n",
       "      <td>1400</td>\n",
       "      <td>2</td>\n",
       "    </tr>\n",
       "  </tbody>\n",
       "</table>\n",
       "</div>"
      ],
      "text/plain": [
       "  label    qid   0   1    2     3  4\n",
       "0     8  18361   8  57  508  1700  3\n",
       "1     6  18098   7  57  506  1200  2\n",
       "2     9  18361   8  57  470  1700  3\n",
       "3     9  18247  11  62  446  2750  2\n",
       "4    11  17989  10  53  490  1400  2"
      ]
     },
     "execution_count": 14,
     "metadata": {},
     "output_type": "execute_result"
    }
   ],
   "source": [
    "ano.head()"
   ]
  },
  {
   "cell_type": "code",
   "execution_count": 15,
   "metadata": {},
   "outputs": [
    {
     "data": {
      "text/plain": [
       "408"
      ]
     },
     "execution_count": 15,
     "metadata": {},
     "output_type": "execute_result"
    }
   ],
   "source": [
    "ano['qid'].nunique()"
   ]
  },
  {
   "cell_type": "code",
   "execution_count": 7,
   "metadata": {},
   "outputs": [
    {
     "name": "stdout",
     "output_type": "stream",
     "text": [
      "i:  0 qid:  18361 count:  13\n",
      "i:  1 qid:  18098 count:  16\n",
      "i:  2 qid:  18247 count:  13\n",
      "i:  3 qid:  17989 count:  13\n",
      "i:  4 qid:  18179 count:  12\n",
      "i:  5 qid:  18122 count:  16\n",
      "i:  6 qid:  18061 count:  16\n",
      "i:  7 qid:  18277 count:  10\n",
      "i:  8 qid:  18206 count:  14\n",
      "i:  9 qid:  18327 count:  16\n",
      "i:  10 qid:  18386 count:  15\n",
      "i:  11 qid:  18170 count:  16\n",
      "i:  12 qid:  18278 count:  16\n",
      "i:  13 qid:  18073 count:  15\n",
      "i:  14 qid:  18012 count:  7\n",
      "i:  15 qid:  18084 count:  16\n",
      "i:  16 qid:  18301 count:  12\n",
      "i:  17 qid:  18229 count:  16\n",
      "i:  18 qid:  18231 count:  16\n",
      "i:  19 qid:  18086 count:  15\n",
      "i:  20 qid:  18049 count:  16\n",
      "i:  21 qid:  18112 count:  11\n",
      "i:  22 qid:  18180 count:  15\n",
      "i:  23 qid:  18013 count:  16\n",
      "i:  24 qid:  18314 count:  12\n",
      "i:  25 qid:  18192 count:  16\n",
      "i:  26 qid:  18350 count:  14\n",
      "i:  27 qid:  18216 count:  9\n",
      "i:  28 qid:  18181 count:  16\n",
      "i:  29 qid:  18244 count:  11\n",
      "i:  30 qid:  18076 count:  12\n",
      "i:  31 qid:  18292 count:  8\n",
      "i:  32 qid:  18230 count:  17\n",
      "i:  33 qid:  18037 count:  9\n",
      "i:  34 qid:  17991 count:  16\n",
      "i:  35 qid:  18217 count:  16\n",
      "i:  36 qid:  18072 count:  16\n",
      "i:  37 qid:  18015 count:  10\n",
      "i:  38 qid:  18115 count:  9\n",
      "i:  39 qid:  18194 count:  16\n",
      "i:  40 qid:  18001 count:  10\n",
      "i:  41 qid:  18302 count:  17\n",
      "i:  42 qid:  18016 count:  9\n",
      "i:  43 qid:  18338 count:  11\n",
      "i:  44 qid:  17990 count:  15\n",
      "i:  45 qid:  18363 count:  16\n",
      "i:  46 qid:  18242 count:  10\n",
      "i:  47 qid:  18266 count:  16\n",
      "i:  48 qid:  18374 count:  16\n",
      "i:  49 qid:  17980 count:  11\n",
      "i:  50 qid:  18352 count:  13\n",
      "i:  51 qid:  18331 count:  6\n",
      "i:  52 qid:  18026 count:  16\n",
      "i:  53 qid:  18254 count:  11\n",
      "i:  54 qid:  18110 count:  12\n",
      "i:  55 qid:  18326 count:  15\n",
      "i:  56 qid:  18373 count:  10\n",
      "i:  57 qid:  18014 count:  18\n",
      "i:  58 qid:  18002 count:  10\n",
      "i:  59 qid:  18240 count:  12\n",
      "i:  60 qid:  18134 count:  12\n",
      "i:  61 qid:  18048 count:  11\n",
      "i:  62 qid:  18108 count:  16\n",
      "i:  63 qid:  18337 count:  12\n",
      "i:  64 qid:  18193 count:  14\n",
      "i:  65 qid:  18157 count:  16\n",
      "i:  66 qid:  18070 count:  13\n",
      "i:  67 qid:  18159 count:  10\n",
      "i:  68 qid:  18028 count:  9\n",
      "i:  69 qid:  18142 count:  16\n",
      "i:  70 qid:  18156 count:  11\n",
      "i:  71 qid:  18328 count:  8\n",
      "i:  72 qid:  18136 count:  10\n",
      "i:  73 qid:  18038 count:  15\n",
      "i:  74 qid:  18145 count:  10\n",
      "i:  75 qid:  18025 count:  15\n",
      "i:  76 qid:  18362 count:  16\n",
      "i:  77 qid:  18036 count:  16\n",
      "i:  78 qid:  18034 count:  16\n",
      "i:  79 qid:  18382 count:  8\n",
      "i:  80 qid:  18359 count:  16\n",
      "i:  81 qid:  18121 count:  12\n",
      "i:  82 qid:  17988 count:  8\n",
      "i:  83 qid:  18107 count:  8\n",
      "i:  84 qid:  18291 count:  15\n",
      "i:  85 qid:  18074 count:  12\n",
      "i:  86 qid:  18387 count:  12\n",
      "i:  87 qid:  18051 count:  12\n",
      "i:  88 qid:  18228 count:  17\n",
      "i:  89 qid:  18120 count:  11\n",
      "i:  90 qid:  18375 count:  7\n",
      "i:  91 qid:  18062 count:  14\n",
      "i:  92 qid:  18241 count:  15\n",
      "i:  93 qid:  18349 count:  13\n",
      "i:  94 qid:  18218 count:  16\n",
      "i:  95 qid:  18003 count:  16\n",
      "i:  96 qid:  18205 count:  10\n",
      "i:  97 qid:  18288 count:  13\n",
      "i:  98 qid:  18024 count:  8\n",
      "i:  99 qid:  18265 count:  10\n",
      "i:  100 qid:  18227 count:  11\n",
      "i:  101 qid:  18182 count:  11\n",
      "i:  102 qid:  18195 count:  16\n",
      "i:  103 qid:  18050 count:  15\n",
      "i:  104 qid:  18324 count:  11\n",
      "i:  105 qid:  18168 count:  11\n",
      "i:  106 qid:  18311 count:  10\n",
      "i:  107 qid:  18264 count:  12\n",
      "i:  108 qid:  18135 count:  14\n",
      "i:  109 qid:  18310 count:  14\n",
      "i:  110 qid:  18325 count:  13\n",
      "i:  111 qid:  18060 count:  11\n",
      "i:  112 qid:  18238 count:  12\n",
      "i:  113 qid:  18214 count:  14\n",
      "i:  114 qid:  18000 count:  16\n",
      "i:  115 qid:  18063 count:  14\n",
      "i:  116 qid:  18167 count:  12\n",
      "i:  117 qid:  18096 count:  14\n",
      "i:  118 qid:  18144 count:  10\n",
      "i:  119 qid:  18085 count:  10\n",
      "i:  120 qid:  18251 count:  12\n",
      "i:  121 qid:  18299 count:  12\n",
      "i:  122 qid:  18154 count:  11\n",
      "i:  123 qid:  18289 count:  14\n",
      "i:  124 qid:  18385 count:  13\n",
      "i:  125 qid:  18099 count:  14\n",
      "i:  126 qid:  18312 count:  16\n",
      "i:  127 qid:  18109 count:  11\n",
      "i:  128 qid:  18147 count:  16\n",
      "i:  129 qid:  18178 count:  15\n",
      "i:  130 qid:  18171 count:  10\n",
      "i:  131 qid:  18203 count:  12\n",
      "i:  132 qid:  18384 count:  11\n",
      "i:  133 qid:  18011 count:  13\n",
      "i:  134 qid:  18351 count:  14\n",
      "i:  135 qid:  18097 count:  10\n",
      "i:  136 qid:  18225 count:  16\n",
      "i:  137 qid:  18255 count:  14\n",
      "i:  138 qid:  18204 count:  14\n",
      "i:  139 qid:  18023 count:  15\n",
      "i:  140 qid:  18131 count:  12\n",
      "i:  141 qid:  18058 count:  14\n",
      "i:  142 qid:  18094 count:  12\n",
      "i:  143 qid:  18207 count:  12\n",
      "i:  144 qid:  18346 count:  12\n",
      "i:  145 qid:  18169 count:  14\n",
      "i:  146 qid:  18313 count:  10\n",
      "i:  147 qid:  18267 count:  14\n",
      "i:  148 qid:  18158 count:  16\n",
      "i:  149 qid:  18219 count:  16\n",
      "i:  150 qid:  18347 count:  11\n",
      "i:  151 qid:  18276 count:  14\n",
      "i:  152 qid:  18287 count:  10\n",
      "i:  153 qid:  17986 count:  9\n",
      "i:  154 qid:  18143 count:  9\n",
      "i:  155 qid:  18360 count:  16\n",
      "i:  156 qid:  18039 count:  16\n",
      "i:  157 qid:  18111 count:  12\n",
      "i:  158 qid:  18071 count:  11\n",
      "i:  159 qid:  18370 count:  11\n",
      "i:  160 qid:  18082 count:  16\n",
      "i:  161 qid:  18252 count:  10\n",
      "i:  162 qid:  18275 count:  12\n",
      "i:  163 qid:  17987 count:  16\n",
      "i:  164 qid:  18239 count:  12\n",
      "i:  165 qid:  18191 count:  18\n",
      "i:  166 qid:  18027 count:  10\n",
      "i:  167 qid:  18339 count:  13\n",
      "i:  168 qid:  18046 count:  16\n",
      "i:  169 qid:  18155 count:  13\n",
      "i:  170 qid:  17999 count:  16\n",
      "i:  171 qid:  18335 count:  16\n",
      "i:  172 qid:  18371 count:  13\n",
      "i:  173 qid:  18303 count:  13\n",
      "i:  174 qid:  18279 count:  13\n",
      "i:  175 qid:  18083 count:  13\n",
      "i:  176 qid:  18215 count:  16\n",
      "i:  177 qid:  18274 count:  9\n",
      "i:  178 qid:  17997 count:  14\n",
      "i:  179 qid:  18183 count:  15\n",
      "i:  180 qid:  18119 count:  15\n",
      "i:  181 qid:  18372 count:  13\n",
      "i:  182 qid:  18383 count:  12\n",
      "i:  183 qid:  18047 count:  10\n",
      "i:  184 qid:  18253 count:  11\n",
      "i:  185 qid:  18348 count:  7\n",
      "i:  186 qid:  18243 count:  13\n",
      "i:  187 qid:  18226 count:  14\n",
      "i:  188 qid:  18190 count:  16\n",
      "i:  189 qid:  18315 count:  11\n",
      "i:  190 qid:  18336 count:  10\n",
      "i:  191 qid:  18087 count:  16\n",
      "i:  192 qid:  18202 count:  12\n",
      "i:  193 qid:  18166 count:  14\n",
      "i:  194 qid:  18010 count:  16\n",
      "i:  195 qid:  18095 count:  14\n",
      "i:  196 qid:  18075 count:  17\n",
      "i:  197 qid:  18323 count:  15\n",
      "i:  198 qid:  18263 count:  10\n",
      "i:  199 qid:  18059 count:  12\n",
      "i:  200 qid:  18123 count:  16\n",
      "i:  201 qid:  18133 count:  9\n",
      "i:  202 qid:  18022 count:  12\n",
      "i:  203 qid:  18118 count:  9\n",
      "i:  204 qid:  18035 count:  8\n",
      "i:  205 qid:  18132 count:  8\n",
      "i:  206 qid:  17998 count:  8\n",
      "i:  207 qid:  18300 count:  10\n",
      "i:  208 qid:  18298 count:  12\n",
      "i:  209 qid:  18354 count:  15\n",
      "i:  210 qid:  18322 count:  16\n",
      "i:  211 qid:  18270 count:  15\n",
      "i:  212 qid:  18185 count:  16\n",
      "i:  213 qid:  18294 count:  14\n",
      "i:  214 qid:  18006 count:  15\n",
      "i:  215 qid:  18209 count:  16\n",
      "i:  216 qid:  18102 count:  15\n",
      "i:  217 qid:  18127 count:  13\n",
      "i:  218 qid:  18343 count:  14\n",
      "i:  219 qid:  18146 count:  15\n",
      "i:  220 qid:  17983 count:  18\n",
      "i:  221 qid:  18211 count:  16\n",
      "i:  222 qid:  18117 count:  16\n",
      "i:  223 qid:  18040 count:  14\n",
      "i:  224 qid:  18091 count:  14\n",
      "i:  225 qid:  18151 count:  16\n",
      "i:  226 qid:  18054 count:  12\n",
      "i:  227 qid:  18126 count:  12\n",
      "i:  228 qid:  18305 count:  12\n",
      "i:  229 qid:  18223 count:  18\n",
      "i:  230 qid:  18233 count:  12\n",
      "i:  231 qid:  18066 count:  16\n",
      "i:  232 qid:  18286 count:  14\n",
      "i:  233 qid:  18282 count:  16\n",
      "i:  234 qid:  17981 count:  15\n",
      "i:  235 qid:  18106 count:  16\n",
      "i:  236 qid:  18318 count:  16\n",
      "i:  237 qid:  18004 count:  11\n",
      "i:  238 qid:  18101 count:  14\n",
      "i:  239 qid:  18161 count:  16\n",
      "i:  240 qid:  18232 count:  16\n",
      "i:  241 qid:  18377 count:  13\n",
      "i:  242 qid:  18330 count:  14\n",
      "i:  243 qid:  17982 count:  16\n",
      "i:  244 qid:  18103 count:  14\n",
      "i:  245 qid:  18173 count:  16\n",
      "i:  246 qid:  18353 count:  15\n",
      "i:  247 qid:  18221 count:  16\n",
      "i:  248 qid:  18078 count:  15\n",
      "i:  249 qid:  18088 count:  16\n",
      "i:  250 qid:  18124 count:  16\n",
      "i:  251 qid:  18307 count:  16\n",
      "i:  252 qid:  18245 count:  15\n",
      "i:  253 qid:  18138 count:  16\n",
      "i:  254 qid:  18153 count:  16\n",
      "i:  255 qid:  18262 count:  16\n",
      "i:  256 qid:  18208 count:  16\n",
      "i:  257 qid:  18290 count:  13\n",
      "i:  258 qid:  18293 count:  16\n",
      "i:  259 qid:  18113 count:  13\n",
      "i:  260 qid:  18365 count:  16\n",
      "i:  261 qid:  18341 count:  12\n",
      "i:  262 qid:  18042 count:  12\n",
      "i:  263 qid:  18306 count:  12\n",
      "i:  264 qid:  18005 count:  14\n",
      "i:  265 qid:  18174 count:  16\n",
      "i:  266 qid:  18077 count:  10\n",
      "i:  267 qid:  18259 count:  15\n",
      "i:  268 qid:  18053 count:  9\n",
      "i:  269 qid:  18018 count:  13\n",
      "i:  270 qid:  18069 count:  14\n",
      "i:  271 qid:  18213 count:  12\n",
      "i:  272 qid:  18052 count:  15\n",
      "i:  273 qid:  18198 count:  16\n",
      "i:  274 qid:  18381 count:  12\n",
      "i:  275 qid:  18137 count:  16\n",
      "i:  276 qid:  18065 count:  10\n",
      "i:  277 qid:  18295 count:  16\n",
      "i:  278 qid:  18378 count:  14\n",
      "i:  279 qid:  18379 count:  16\n",
      "i:  280 qid:  18064 count:  11\n",
      "i:  281 qid:  18271 count:  13\n",
      "i:  282 qid:  18007 count:  10\n",
      "i:  283 qid:  18250 count:  10\n",
      "i:  284 qid:  17985 count:  16\n",
      "i:  285 qid:  18186 count:  16\n",
      "i:  286 qid:  17993 count:  11\n",
      "i:  287 qid:  18269 count:  14\n",
      "i:  288 qid:  18175 count:  15\n",
      "i:  289 qid:  18055 count:  11\n",
      "i:  290 qid:  18283 count:  16\n",
      "i:  291 qid:  18057 count:  14\n",
      "i:  292 qid:  18125 count:  12\n",
      "i:  293 qid:  18364 count:  16\n",
      "i:  294 qid:  18355 count:  16\n",
      "i:  295 qid:  18281 count:  15\n",
      "i:  296 qid:  18105 count:  16\n",
      "i:  297 qid:  18079 count:  15\n",
      "i:  298 qid:  18043 count:  15\n",
      "i:  299 qid:  18189 count:  17\n",
      "i:  300 qid:  18187 count:  16\n",
      "i:  301 qid:  18367 count:  16\n",
      "i:  302 qid:  18210 count:  15\n",
      "i:  303 qid:  18029 count:  15\n",
      "i:  304 qid:  18030 count:  16\n",
      "i:  305 qid:  18235 count:  16\n",
      "i:  306 qid:  18345 count:  14\n",
      "i:  307 qid:  18257 count:  12\n",
      "i:  308 qid:  17994 count:  16\n",
      "i:  309 qid:  18041 count:  16\n",
      "i:  310 qid:  18163 count:  10\n",
      "i:  311 qid:  18045 count:  18\n",
      "i:  312 qid:  18246 count:  15\n",
      "i:  313 qid:  18258 count:  18\n",
      "i:  314 qid:  18149 count:  18\n",
      "i:  315 qid:  18162 count:  12\n",
      "i:  316 qid:  18093 count:  12\n",
      "i:  317 qid:  18160 count:  13\n",
      "i:  318 qid:  18031 count:  17\n",
      "i:  319 qid:  18234 count:  12\n",
      "i:  320 qid:  18090 count:  10\n",
      "i:  321 qid:  18199 count:  9\n",
      "i:  322 qid:  18342 count:  14\n",
      "i:  323 qid:  18017 count:  14\n",
      "i:  324 qid:  18165 count:  11\n",
      "i:  325 qid:  18319 count:  15\n",
      "i:  326 qid:  18333 count:  18\n",
      "i:  327 qid:  18237 count:  9\n",
      "i:  328 qid:  17992 count:  16\n",
      "i:  329 qid:  18220 count:  16\n",
      "i:  330 qid:  18334 count:  18\n",
      "i:  331 qid:  18019 count:  16\n",
      "i:  332 qid:  18150 count:  16\n",
      "i:  333 qid:  18089 count:  14\n",
      "i:  334 qid:  18197 count:  8\n",
      "i:  335 qid:  17995 count:  14\n",
      "i:  336 qid:  18081 count:  11\n",
      "i:  337 qid:  18222 count:  15\n",
      "i:  338 qid:  18067 count:  18\n",
      "i:  339 qid:  18366 count:  15\n",
      "i:  340 qid:  18201 count:  12\n",
      "i:  341 qid:  18139 count:  16\n",
      "i:  342 qid:  18148 count:  16\n",
      "i:  343 qid:  18130 count:  9\n",
      "i:  344 qid:  18309 count:  13\n",
      "i:  345 qid:  18021 count:  16\n",
      "i:  346 qid:  18358 count:  15\n",
      "i:  347 qid:  18033 count:  11\n",
      "i:  348 qid:  18177 count:  16\n",
      "i:  349 qid:  18114 count:  13\n",
      "i:  350 qid:  17984 count:  13\n",
      "i:  351 qid:  18172 count:  9\n",
      "i:  352 qid:  18317 count:  8\n",
      "i:  353 qid:  18100 count:  7\n",
      "i:  354 qid:  17996 count:  9\n",
      "i:  355 qid:  18184 count:  8\n",
      "i:  356 qid:  18008 count:  12\n",
      "i:  357 qid:  18009 count:  16\n",
      "i:  358 qid:  18280 count:  8\n",
      "i:  359 qid:  18376 count:  11\n",
      "i:  360 qid:  18020 count:  9\n",
      "i:  361 qid:  18196 count:  12\n",
      "i:  362 qid:  18256 count:  10\n",
      "i:  363 qid:  18032 count:  13\n",
      "i:  364 qid:  18044 count:  11\n",
      "i:  365 qid:  18329 count:  6\n",
      "i:  366 qid:  18056 count:  9\n",
      "i:  367 qid:  18268 count:  6\n",
      "i:  368 qid:  18068 count:  12\n",
      "i:  369 qid:  18080 count:  9\n",
      "i:  370 qid:  18092 count:  9\n",
      "i:  371 qid:  18340 count:  7\n",
      "i:  372 qid:  18304 count:  11\n",
      "i:  373 qid:  18104 count:  16\n",
      "i:  374 qid:  18316 count:  10\n",
      "i:  375 qid:  18116 count:  12\n",
      "i:  376 qid:  18128 count:  10\n",
      "i:  377 qid:  18129 count:  8\n",
      "i:  378 qid:  18140 count:  16\n",
      "i:  379 qid:  18141 count:  16\n",
      "i:  380 qid:  18152 count:  14\n",
      "i:  381 qid:  18164 count:  8\n",
      "i:  382 qid:  18176 count:  16\n",
      "i:  383 qid:  18188 count:  11\n",
      "i:  384 qid:  18200 count:  8\n",
      "i:  385 qid:  18212 count:  16\n",
      "i:  386 qid:  18224 count:  12\n",
      "i:  387 qid:  18236 count:  8\n",
      "i:  388 qid:  18248 count:  15\n",
      "i:  389 qid:  18249 count:  12\n",
      "i:  390 qid:  18260 count:  17\n",
      "i:  391 qid:  18261 count:  11\n",
      "i:  392 qid:  18272 count:  8\n",
      "i:  393 qid:  18273 count:  7\n",
      "i:  394 qid:  18284 count:  13\n",
      "i:  395 qid:  18285 count:  16\n",
      "i:  396 qid:  18296 count:  8\n",
      "i:  397 qid:  18297 count:  8\n",
      "i:  398 qid:  18308 count:  8\n",
      "i:  399 qid:  18320 count:  11\n",
      "i:  400 qid:  18321 count:  11\n",
      "i:  401 qid:  18332 count:  10\n",
      "i:  402 qid:  18344 count:  13\n",
      "i:  403 qid:  18356 count:  10\n",
      "i:  404 qid:  18357 count:  9\n",
      "i:  405 qid:  18368 count:  12\n",
      "i:  406 qid:  18369 count:  14\n",
      "i:  407 qid:  18380 count:  6\n"
     ]
    }
   ],
   "source": [
    "for i, (qid, count) in enumerate(test_dl.dataset.query_ids.items()):\n",
    "    print(\"i: \", i, \"qid: \", qid, \"count: \", count)"
   ]
  },
  {
   "cell_type": "code",
   "execution_count": 4,
   "metadata": {},
   "outputs": [],
   "source": [
    "pred = pd.read_csv('pony/results/pony/test_pred.csv')"
   ]
  },
  {
   "cell_type": "code",
   "execution_count": 5,
   "metadata": {},
   "outputs": [
    {
     "data": {
      "text/html": [
       "<div>\n",
       "<style scoped>\n",
       "    .dataframe tbody tr th:only-of-type {\n",
       "        vertical-align: middle;\n",
       "    }\n",
       "\n",
       "    .dataframe tbody tr th {\n",
       "        vertical-align: top;\n",
       "    }\n",
       "\n",
       "    .dataframe thead th {\n",
       "        text-align: right;\n",
       "    }\n",
       "</style>\n",
       "<table border=\"1\" class=\"dataframe\">\n",
       "  <thead>\n",
       "    <tr style=\"text-align: right;\">\n",
       "      <th></th>\n",
       "      <th>qid</th>\n",
       "      <th>eid</th>\n",
       "      <th>pred_score</th>\n",
       "      <th>true_sorted_by_pred</th>\n",
       "    </tr>\n",
       "  </thead>\n",
       "  <tbody>\n",
       "    <tr>\n",
       "      <th>0</th>\n",
       "      <td>18361</td>\n",
       "      <td>2</td>\n",
       "      <td>20</td>\n",
       "      <td>13</td>\n",
       "    </tr>\n",
       "    <tr>\n",
       "      <th>1</th>\n",
       "      <td>18361</td>\n",
       "      <td>2</td>\n",
       "      <td>19</td>\n",
       "      <td>11</td>\n",
       "    </tr>\n",
       "    <tr>\n",
       "      <th>2</th>\n",
       "      <td>18361</td>\n",
       "      <td>3</td>\n",
       "      <td>18</td>\n",
       "      <td>9</td>\n",
       "    </tr>\n",
       "    <tr>\n",
       "      <th>3</th>\n",
       "      <td>18361</td>\n",
       "      <td>2</td>\n",
       "      <td>17</td>\n",
       "      <td>16</td>\n",
       "    </tr>\n",
       "    <tr>\n",
       "      <th>4</th>\n",
       "      <td>18361</td>\n",
       "      <td>2</td>\n",
       "      <td>16</td>\n",
       "      <td>2</td>\n",
       "    </tr>\n",
       "  </tbody>\n",
       "</table>\n",
       "</div>"
      ],
      "text/plain": [
       "     qid  eid  pred_score  true_sorted_by_pred\n",
       "0  18361    2          20                   13\n",
       "1  18361    2          19                   11\n",
       "2  18361    3          18                    9\n",
       "3  18361    2          17                   16\n",
       "4  18361    2          16                    2"
      ]
     },
     "execution_count": 5,
     "metadata": {},
     "output_type": "execute_result"
    }
   ],
   "source": [
    "pred.head()"
   ]
  },
  {
   "cell_type": "code",
   "execution_count": 9,
   "metadata": {},
   "outputs": [
    {
     "data": {
      "text/plain": [
       "qid\n",
       "17980    2\n",
       "17981    2\n",
       "17982    2\n",
       "17983    2\n",
       "17984    2\n",
       "        ..\n",
       "18383    2\n",
       "18384    2\n",
       "18385    2\n",
       "18386    3\n",
       "18387    3\n",
       "Name: eid, Length: 408, dtype: int64"
      ]
     },
     "execution_count": 9,
     "metadata": {},
     "output_type": "execute_result"
    }
   ],
   "source": [
    "pred.groupby('qid')['eid'].nunique()"
   ]
  },
  {
   "cell_type": "code",
   "execution_count": 13,
   "metadata": {},
   "outputs": [
    {
     "data": {
      "text/plain": [
       "[array([0., 0., 0., 0., 0.]), array([0., 0., 0., 0., 0.])]"
      ]
     },
     "execution_count": 13,
     "metadata": {},
     "output_type": "execute_result"
    }
   ],
   "source": [
    "indices"
   ]
  },
  {
   "cell_type": "code",
   "execution_count": null,
   "metadata": {},
   "outputs": [],
   "source": []
  }
 ],
 "metadata": {
  "kernelspec": {
   "display_name": "Python 3.9.7 ('max')",
   "language": "python",
   "name": "python3"
  },
  "language_info": {
   "codemirror_mode": {
    "name": "ipython",
    "version": 3
   },
   "file_extension": ".py",
   "mimetype": "text/x-python",
   "name": "python",
   "nbconvert_exporter": "python",
   "pygments_lexer": "ipython3",
   "version": "3.9.7"
  },
  "orig_nbformat": 4,
  "vscode": {
   "interpreter": {
    "hash": "8c1680c34969cf52a892bb70ee06e4d34b65327df7a7e3d6aa653e55108e8ac4"
   }
  }
 },
 "nbformat": 4,
 "nbformat_minor": 2
}
